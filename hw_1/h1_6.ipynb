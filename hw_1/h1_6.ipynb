{
 "cells": [
  {
   "cell_type": "markdown",
   "metadata": {},
   "source": [
    "H1.6 K-nearest neighbor\n",
    "============\n",
    "\n",
    "Using dataset MNIST from sklearn"
   ]
  },
  {
   "cell_type": "code",
   "execution_count": 164,
   "metadata": {},
   "outputs": [],
   "source": [
    "from sklearn.datasets import fetch_mldata\n",
    "mnist = fetch_mldata('MNIST original')"
   ]
  },
  {
   "cell_type": "markdown",
   "metadata": {},
   "source": [
    "SID: 862057597 =>\n",
    "pick the last 3 digits for classification sample (5, 7, 9)\n"
   ]
  },
  {
   "cell_type": "code",
   "execution_count": 165,
   "metadata": {},
   "outputs": [],
   "source": [
    "import numpy as np\n",
    "import matplotlib.pyplot as plt\n",
    "from matplotlib.colors import ListedColormap\n",
    "from sklearn import neighbors\n",
    "\n",
    "data = mnist.data\n",
    "label = mnist.target\n",
    "training_data = np.zeros(shape=(600, 784))\n",
    "training_label = np.array([])\n",
    "testing_data = np.zeros(shape=(600, 784))\n",
    "training_data[0:200] = data[31597:31597+200]\n",
    "training_data[200:400] = data[41971:41971+200]\n",
    "training_data[400:600] = data[55330:55330+200]\n",
    "training_label = np.append(training_label, label[31597:31597+200])\n",
    "training_label = np.append(training_label, label[41971:41971+200])\n",
    "training_label = np.append(training_label, label[55330:55330+200])\n",
    "testing_data[0:200] = data[65166:65166 + 200]\n",
    "testing_data[200:400] = data[67227:67227 + 200]\n",
    "testing_data[400:600] = data[69173:69173 + 200]\n"
   ]
  },
  {
   "cell_type": "code",
   "execution_count": 166,
   "metadata": {},
   "outputs": [
    {
     "name": "stdout",
     "output_type": "stream",
     "text": [
      "accuracy = 0.95\n"
     ]
    }
   ],
   "source": [
    "n_neighbors = 1\n",
    "clf = neighbors.KNeighborsClassifier(n_neighbors, 'distance', algorithm='brute')\n",
    "clf.fit(training_data, training_label)\n",
    "Z = clf.predict(testing_data[:200])\n",
    "correct_count = 0\n",
    "mis_classified_item = []\n",
    "for i in range(len(Z)):\n",
    "    if Z[i] == training_label[i]:\n",
    "        correct_count += 1\n",
    "    else:\n",
    "        mis_classified_item.append(i)\n",
    "print(\"accuracy = {0}\".format(correct_count / len(Z)))"
   ]
  },
  {
   "cell_type": "code",
   "execution_count": 167,
   "metadata": {},
   "outputs": [
    {
     "name": "stdout",
     "output_type": "stream",
     "text": [
      "accuracy = 0.94\n"
     ]
    }
   ],
   "source": [
    "n_neighbors = 1\n",
    "clf = neighbors.KNeighborsClassifier(n_neighbors, 'distance', algorithm='brute')\n",
    "clf.fit(training_data, training_label)\n",
    "Z = clf.predict(testing_data)\n",
    "correct_count = 0\n",
    "for i in range(len(Z)):\n",
    "    if Z[i] == training_label[i]:\n",
    "        correct_count += 1\n",
    "print(\"accuracy = {0}\".format(correct_count / len(Z)))"
   ]
  },
  {
   "cell_type": "code",
   "execution_count": 168,
   "metadata": {},
   "outputs": [
    {
     "name": "stdout",
     "output_type": "stream",
     "text": [
      "accuracy = 0.9433333333333334\n"
     ]
    }
   ],
   "source": [
    "n_neighbors = 3\n",
    "clf = neighbors.KNeighborsClassifier(n_neighbors, 'distance', algorithm='brute')\n",
    "clf.fit(training_data, training_label)\n",
    "Z = clf.predict(testing_data)\n",
    "correct_count = 0\n",
    "for i in range(len(Z)):\n",
    "    if Z[i] == training_label[i]:\n",
    "        correct_count += 1\n",
    "print(\"accuracy = {0}\".format(correct_count / len(Z)))"
   ]
  },
  {
   "cell_type": "code",
   "execution_count": 169,
   "metadata": {},
   "outputs": [],
   "source": [
    "def convert_data_to_img(data):\n",
    "    img_list = []\n",
    "    i = 0\n",
    "    for row in range(28):\n",
    "        temp = []\n",
    "        for col in range(28):\n",
    "            temp.append(data[i])\n",
    "            i += 1\n",
    "        img_list.append(temp)\n",
    "    img = np.array(img_list)\n",
    "    return img"
   ]
  },
  {
   "cell_type": "code",
   "execution_count": 172,
   "metadata": {},
   "outputs": [
    {
     "data": {
      "image/png": "[encoded data removed]",
      "text/plain": [
       "<Figure size 432x288 with 5 Axes>"
      ]
     },
     "metadata": {},
     "output_type": "display_data"
    }
   ],
   "source": [
    "fig, p_arr = plt.subplots(1, 5)\n",
    "fig.suptitle('5 images that classfied correctly')\n",
    "for i in range(5):\n",
    "    p_arr[i].imshow(convert_data_to_img(testing_data[i]))\n",
    "\n",
    "plt.show()"
   ]
  },
  {
   "cell_type": "code",
   "execution_count": 171,
   "metadata": {},
   "outputs": [
    {
     "data": {
      "image/png": "[encoded data removed]",
      "text/plain": [
       "<Figure size 432x288 with 5 Axes>"
      ]
     },
     "metadata": {},
     "output_type": "display_data"
    }
   ],
   "source": [
    "fig, p_arr = plt.subplots(1, 5)\n",
    "fig.suptitle('5 images that classfied incorrectly')\n",
    "for i in range(5):\n",
    "    p_arr[i].imshow(convert_data_to_img(testing_data[mis_classified_item[i]]))\n",
    "plt.show()"
   ]
  }
 ],
 "metadata": {
  "kernelspec": {
   "display_name": "Python 3",
   "language": "python",
   "name": "python3"
  },
  "language_info": {
   "codemirror_mode": {
    "name": "ipython",
    "version": 3
   },
   "file_extension": ".py",
   "mimetype": "text/x-python",
   "name": "python",
   "nbconvert_exporter": "python",
   "pygments_lexer": "ipython3",
   "version": "3.6.5"
  }
 },
 "nbformat": 4,
 "nbformat_minor": 2
}
