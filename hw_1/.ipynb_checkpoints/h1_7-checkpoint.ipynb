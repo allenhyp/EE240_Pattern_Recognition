{
 "cells": [
  {
   "cell_type": "markdown",
   "metadata": {},
   "source": [
    "# H1.7 Linear regression (with gradient descent)\n"
   ]
  },
  {
   "cell_type": "code",
   "execution_count": 73,
   "metadata": {
    "scrolled": true
   },
   "outputs": [
    {
     "name": "stdout",
     "output_type": "stream",
     "text": [
      "           1     2      3   4      5      6      7       8   9      10    11  \\\n",
      "0     0.00632  18.0   2.31   0  0.538  6.575   65.2  4.0900   1  296.0  15.3   \n",
      "1     0.02731   0.0   7.07   0  0.469  6.421   78.9  4.9671   2  242.0  17.8   \n",
      "2     0.02729   0.0   7.07   0  0.469  7.185   61.1  4.9671   2  242.0  17.8   \n",
      "3     0.03237   0.0   2.18   0  0.458  6.998   45.8  6.0622   3  222.0  18.7   \n",
      "4     0.06905   0.0   2.18   0  0.458  7.147   54.2  6.0622   3  222.0  18.7   \n",
      "5     0.02985   0.0   2.18   0  0.458  6.430   58.7  6.0622   3  222.0  18.7   \n",
      "6     0.08829  12.5   7.87   0  0.524  6.012   66.6  5.5605   5  311.0  15.2   \n",
      "7     0.14455  12.5   7.87   0  0.524  6.172   96.1  5.9505   5  311.0  15.2   \n",
      "8     0.21124  12.5   7.87   0  0.524  5.631  100.0  6.0821   5  311.0  15.2   \n",
      "9     0.17004  12.5   7.87   0  0.524  6.004   85.9  6.5921   5  311.0  15.2   \n",
      "10    0.22489  12.5   7.87   0  0.524  6.377   94.3  6.3467   5  311.0  15.2   \n",
      "11    0.11747  12.5   7.87   0  0.524  6.009   82.9  6.2267   5  311.0  15.2   \n",
      "12    0.09378  12.5   7.87   0  0.524  5.889   39.0  5.4509   5  311.0  15.2   \n",
      "13    0.62976   0.0   8.14   0  0.538  5.949   61.8  4.7075   4  307.0  21.0   \n",
      "14    0.63796   0.0   8.14   0  0.538  6.096   84.5  4.4619   4  307.0  21.0   \n",
      "15    0.62739   0.0   8.14   0  0.538  5.834   56.5  4.4986   4  307.0  21.0   \n",
      "16    1.05393   0.0   8.14   0  0.538  5.935   29.3  4.4986   4  307.0  21.0   \n",
      "17    0.78420   0.0   8.14   0  0.538  5.990   81.7  4.2579   4  307.0  21.0   \n",
      "18    0.80271   0.0   8.14   0  0.538  5.456   36.6  3.7965   4  307.0  21.0   \n",
      "19    0.72580   0.0   8.14   0  0.538  5.727   69.5  3.7965   4  307.0  21.0   \n",
      "20    1.25179   0.0   8.14   0  0.538  5.570   98.1  3.7979   4  307.0  21.0   \n",
      "21    0.85204   0.0   8.14   0  0.538  5.965   89.2  4.0123   4  307.0  21.0   \n",
      "22    1.23247   0.0   8.14   0  0.538  6.142   91.7  3.9769   4  307.0  21.0   \n",
      "23    0.98843   0.0   8.14   0  0.538  5.813  100.0  4.0952   4  307.0  21.0   \n",
      "24    0.75026   0.0   8.14   0  0.538  5.924   94.1  4.3996   4  307.0  21.0   \n",
      "25    0.84054   0.0   8.14   0  0.538  5.599   85.7  4.4546   4  307.0  21.0   \n",
      "26    0.67191   0.0   8.14   0  0.538  5.813   90.3  4.6820   4  307.0  21.0   \n",
      "27    0.95577   0.0   8.14   0  0.538  6.047   88.8  4.4534   4  307.0  21.0   \n",
      "28    0.77299   0.0   8.14   0  0.538  6.495   94.4  4.4547   4  307.0  21.0   \n",
      "29    1.00245   0.0   8.14   0  0.538  6.674   87.3  4.2390   4  307.0  21.0   \n",
      "..        ...   ...    ...  ..    ...    ...    ...     ...  ..    ...   ...   \n",
      "476   4.87141   0.0  18.10   0  0.614  6.484   93.6  2.3053  24  666.0  20.2   \n",
      "477  15.02340   0.0  18.10   0  0.614  5.304   97.3  2.1007  24  666.0  20.2   \n",
      "478  10.23300   0.0  18.10   0  0.614  6.185   96.7  2.1705  24  666.0  20.2   \n",
      "479  14.33370   0.0  18.10   0  0.614  6.229   88.0  1.9512  24  666.0  20.2   \n",
      "480   5.82401   0.0  18.10   0  0.532  6.242   64.7  3.4242  24  666.0  20.2   \n",
      "481   5.70818   0.0  18.10   0  0.532  6.750   74.9  3.3317  24  666.0  20.2   \n",
      "482   5.73116   0.0  18.10   0  0.532  7.061   77.0  3.4106  24  666.0  20.2   \n",
      "483   2.81838   0.0  18.10   0  0.532  5.762   40.3  4.0983  24  666.0  20.2   \n",
      "484   2.37857   0.0  18.10   0  0.583  5.871   41.9  3.7240  24  666.0  20.2   \n",
      "485   3.67367   0.0  18.10   0  0.583  6.312   51.9  3.9917  24  666.0  20.2   \n",
      "486   5.69175   0.0  18.10   0  0.583  6.114   79.8  3.5459  24  666.0  20.2   \n",
      "487   4.83567   0.0  18.10   0  0.583  5.905   53.2  3.1523  24  666.0  20.2   \n",
      "488   0.15086   0.0  27.74   0  0.609  5.454   92.7  1.8209   4  711.0  20.1   \n",
      "489   0.18337   0.0  27.74   0  0.609  5.414   98.3  1.7554   4  711.0  20.1   \n",
      "490   0.20746   0.0  27.74   0  0.609  5.093   98.0  1.8226   4  711.0  20.1   \n",
      "491   0.10574   0.0  27.74   0  0.609  5.983   98.8  1.8681   4  711.0  20.1   \n",
      "492   0.11132   0.0  27.74   0  0.609  5.983   83.5  2.1099   4  711.0  20.1   \n",
      "493   0.17331   0.0   9.69   0  0.585  5.707   54.0  2.3817   6  391.0  19.2   \n",
      "494   0.27957   0.0   9.69   0  0.585  5.926   42.6  2.3817   6  391.0  19.2   \n",
      "495   0.17899   0.0   9.69   0  0.585  5.670   28.8  2.7986   6  391.0  19.2   \n",
      "496   0.28960   0.0   9.69   0  0.585  5.390   72.9  2.7986   6  391.0  19.2   \n",
      "497   0.26838   0.0   9.69   0  0.585  5.794   70.6  2.8927   6  391.0  19.2   \n",
      "498   0.23912   0.0   9.69   0  0.585  6.019   65.3  2.4091   6  391.0  19.2   \n",
      "499   0.17783   0.0   9.69   0  0.585  5.569   73.5  2.3999   6  391.0  19.2   \n",
      "500   0.22438   0.0   9.69   0  0.585  6.027   79.7  2.4982   6  391.0  19.2   \n",
      "501   0.06263   0.0  11.93   0  0.573  6.593   69.1  2.4786   1  273.0  21.0   \n",
      "502   0.04527   0.0  11.93   0  0.573  6.120   76.7  2.2875   1  273.0  21.0   \n",
      "503   0.06076   0.0  11.93   0  0.573  6.976   91.0  2.1675   1  273.0  21.0   \n",
      "504   0.10959   0.0  11.93   0  0.573  6.794   89.3  2.3889   1  273.0  21.0   \n",
      "505   0.04741   0.0  11.93   0  0.573  6.030   80.8  2.5050   1  273.0  21.0   \n",
      "\n",
      "         12     13    14  \n",
      "0    396.90   4.98  24.0  \n",
      "1    396.90   9.14  21.6  \n",
      "2    392.83   4.03  34.7  \n",
      "3    394.63   2.94  33.4  \n",
      "4    396.90   5.33  36.2  \n",
      "5    394.12   5.21  28.7  \n",
      "6    395.60  12.43  22.9  \n",
      "7    396.90  19.15  27.1  \n",
      "8    386.63  29.93  16.5  \n",
      "9    386.71  17.10  18.9  \n",
      "10   392.52  20.45  15.0  \n",
      "11   396.90  13.27  18.9  \n",
      "12   390.50  15.71  21.7  \n",
      "13   396.90   8.26  20.4  \n",
      "14   380.02  10.26  18.2  \n",
      "15   395.62   8.47  19.9  \n",
      "16   386.85   6.58  23.1  \n",
      "17   386.75  14.67  17.5  \n",
      "18   288.99  11.69  20.2  \n",
      "19   390.95  11.28  18.2  \n",
      "20   376.57  21.02  13.6  \n",
      "21   392.53  13.83  19.6  \n",
      "22   396.90  18.72  15.2  \n",
      "23   394.54  19.88  14.5  \n",
      "24   394.33  16.30  15.6  \n",
      "25   303.42  16.51  13.9  \n",
      "26   376.88  14.81  16.6  \n",
      "27   306.38  17.28  14.8  \n",
      "28   387.94  12.80  18.4  \n",
      "29   380.23  11.98  21.0  \n",
      "..      ...    ...   ...  \n",
      "476  396.21  18.68  16.7  \n",
      "477  349.48  24.91  12.0  \n",
      "478  379.70  18.03  14.6  \n",
      "479  383.32  13.11  21.4  \n",
      "480  396.90  10.74  23.0  \n",
      "481  393.07   7.74  23.7  \n",
      "482  395.28   7.01  25.0  \n",
      "483  392.92  10.42  21.8  \n",
      "484  370.73  13.34  20.6  \n",
      "485  388.62  10.58  21.2  \n",
      "486  392.68  14.98  19.1  \n",
      "487  388.22  11.45  20.6  \n",
      "488  395.09  18.06  15.2  \n",
      "489  344.05  23.97   7.0  \n",
      "490  318.43  29.68   8.1  \n",
      "491  390.11  18.07  13.6  \n",
      "492  396.90  13.35  20.1  \n",
      "493  396.90  12.01  21.8  \n",
      "494  396.90  13.59  24.5  \n",
      "495  393.29  17.60  23.1  \n",
      "496  396.90  21.14  19.7  \n",
      "497  396.90  14.10  18.3  \n",
      "498  396.90  12.92  21.2  \n",
      "499  395.77  15.10  17.5  \n",
      "500  396.90  14.33  16.8  \n",
      "501  391.99   9.67  22.4  \n",
      "502  396.90   9.08  20.6  \n",
      "503  396.90   5.64  23.9  \n",
      "504  393.45   6.48  22.0  \n",
      "505  396.90   7.88  11.9  \n",
      "\n",
      "[506 rows x 14 columns]\n"
     ]
    },
    {
     "name": "stderr",
     "output_type": "stream",
     "text": [
      "/usr/local/lib/python3.6/site-packages/ipykernel_launcher.py:5: ParserWarning: Falling back to the 'python' engine because the 'c' engine does not support regex separators (separators > 1 char and different from '\\s+' are interpreted as regex); you can avoid this warning by specifying engine='python'.\n",
      "  \"\"\"\n",
      "/usr/local/lib/python3.6/site-packages/pandas/io/parsers.py:2227: FutureWarning: split() requires a non-empty pattern match.\n",
      "  yield pat.split(line.strip())\n",
      "/usr/local/lib/python3.6/site-packages/pandas/io/parsers.py:2229: FutureWarning: split() requires a non-empty pattern match.\n",
      "  yield pat.split(line.strip())\n"
     ]
    }
   ],
   "source": [
    "import pandas as pd\n",
    "import numpy as np\n",
    "import matplotlib.pyplot as plt\n",
    "\n",
    "data = pd.read_csv('housing.data', sep=' *', header=None, names=[c for c in range(1, 15)])\n",
    "df = pd.DataFrame(data)\n",
    "\n",
    "print(df)\n"
   ]
  },
  {
   "cell_type": "code",
   "execution_count": 74,
   "metadata": {},
   "outputs": [],
   "source": [
    "df_t = df.copy()\n",
    "for i in range(1,14):\n",
    "    df_t[i] = (df_t[i] - df_t[i].mean()) / df_t[i].std()"
   ]
  },
  {
   "cell_type": "code",
   "execution_count": 75,
   "metadata": {},
   "outputs": [
    {
     "name": "stdout",
     "output_type": "stream",
     "text": [
      "     0         1         2         3         4         5         6         7   \\\n",
      "0     1 -0.402563 -0.487240  2.420170 -0.272329  0.468640 -1.182201  0.857054   \n",
      "1     1 -0.397796 -0.487240 -0.547607 -0.272329 -0.532415  0.208315 -1.913928   \n",
      "2     1 -0.386282 -0.487240  1.567444 -0.272329  0.598087 -0.157460  0.889027   \n",
      "3     1 -0.232598 -0.487240 -0.436826 -0.272329 -0.144075 -0.268474  1.006261   \n",
      "4     1  0.820582 -0.487240  1.014995 -0.272329  1.599143  0.248166  0.931658   \n",
      "5     1 -0.388900 -0.487240 -0.210890 -0.272329  0.261525 -0.698295  0.071942   \n",
      "6     1  0.025962 -0.487240  1.014995 -0.272329  1.858036 -0.047870  0.800213   \n",
      "7     1  0.481158 -0.487240  1.014995 -0.272329  1.366138  0.023292  0.537325   \n",
      "8     1 -0.381757 -0.487240  1.567444 -0.272329  0.598087 -0.658444  0.952973   \n",
      "9     1 -0.407931  1.227845 -0.688999  3.664771 -0.929386  1.398152 -0.695406   \n",
      "10    1 -0.415060  0.413180 -0.801238 -0.272329 -0.998424 -0.241432 -0.198051   \n",
      "11    1 -0.416021  3.586088 -1.232703 -0.272329 -1.196046  2.232177 -1.256708   \n",
      "12    1 -0.414590 -0.487240  0.115624 -0.272329  0.157968 -0.362408  0.434302   \n",
      "13    1 -0.409291 -0.487240  2.115521 -0.272329  0.227006 -0.460613  0.864159   \n",
      "14    1  0.665621 -0.487240  1.014995 -0.272329  1.072726  0.135729  0.960078   \n",
      "15    1 -0.415101  2.942931 -1.344942 -0.272329 -1.222799 -0.884741 -1.658145   \n",
      "16    1 -0.412443 -0.487240 -1.264771 -0.272329 -0.575564  2.106931  0.523115   \n",
      "17    1 -0.348638 -0.487240 -0.719610 -0.272329 -0.411598  0.474463  0.434302   \n",
      "18    1  1.682381 -0.487240  1.014995 -0.272329  1.072726  0.212585  1.116390   \n",
      "19    1  0.049397 -0.487240  1.014995 -0.272329 -0.195854 -0.079182  0.786003   \n",
      "20    1  0.685936 -0.487240  1.014995 -0.272329  1.366138  0.631020  0.906790   \n",
      "21    1  0.070786 -0.487240  1.014995  3.664771  1.858036 -0.685486  0.725610   \n",
      "22    1 -0.335721 -0.487240 -0.436826 -0.272329 -0.144075 -0.793653  0.032865   \n",
      "23    1 -0.272052 -0.487240  1.230727  3.664771  0.434121 -0.049293  0.853502   \n",
      "24    1 -0.355255 -0.487240  1.567444 -0.272329  0.598087  0.071683  1.052444   \n",
      "25    1 -0.412881  1.227845 -1.441147 -0.272329 -1.084722  0.292287 -0.858823   \n",
      "26    1 -0.406445  0.048724 -0.476182 -0.272329 -0.264892 -0.392297  0.508905   \n",
      "27    1 -0.406811 -0.487240 -0.375604 -0.272329 -0.299411  0.706452  0.096810   \n",
      "28    1 -0.414220 -0.487240 -0.968868 -0.272329 -0.912126  0.148538 -0.730932   \n",
      "29    1 -0.169559 -0.487240  1.230727 -0.272329  2.729645 -0.934555  1.116390   \n",
      "..   ..       ...       ...       ...       ...       ...       ...       ...   \n",
      "476   1 -0.379140 -0.487240  1.567444 -0.272329  0.598087  0.241050  1.059549   \n",
      "477   1 -0.407554 -0.487240 -0.375604 -0.272329 -0.299411 -0.127572 -0.503569   \n",
      "478   1 -0.388784 -0.487240 -0.180279 -0.272329 -0.092296 -0.026521  0.505353   \n",
      "479   1  2.911370 -0.487240  1.014995 -0.272329  0.365083 -1.607752  1.116390   \n",
      "480   1 -0.080163 -0.487240  1.230727 -0.272329  0.434121 -0.261358  0.867712   \n",
      "481   1 -0.392302 -0.487240 -0.210890 -0.272329  0.261525 -0.378064 -0.116342   \n",
      "482   1 -0.409448 -0.487240 -0.047633 -0.272329 -1.222799 -0.312595 -2.159054   \n",
      "483   1 -0.417198 -0.487240 -1.347858 -0.272329 -0.316671  0.363449 -0.315285   \n",
      "484   1 -0.416929 -0.487240 -0.592794 -0.272329 -0.739530  1.281446 -0.265549   \n",
      "485   1 -0.356797 -0.487240  1.567444 -0.272329  0.598087 -0.190195  1.041786   \n",
      "486   1 -0.412951 -0.487240 -0.866833 -0.272329 -0.342560 -0.450650 -0.357915   \n",
      "487   1  1.766831 -0.487240  1.014995 -0.272329  0.365083 -2.357805  1.116390   \n",
      "488   1 -0.410785 -0.487240 -0.754594 -0.272329 -0.480637 -0.618593 -0.961847   \n",
      "489   1 -0.409979 -0.487240  0.246813 -0.272329 -1.015684 -0.205851 -0.809088   \n",
      "490   1  0.721959 -0.487240  1.014995 -0.272329  1.003687  0.724955  1.073759   \n",
      "491   1 -0.414311  0.413180 -0.801238 -0.272329 -0.998424 -0.407952 -1.675908   \n",
      "492   1 -0.412584  2.514159 -1.296840 -0.272329 -1.334986  0.085915 -1.722091   \n",
      "493   1 -0.419367  0.284548 -1.286636 -0.272329 -0.144075  0.413263 -0.119895   \n",
      "494   1 -0.405218 -0.487240 -0.375604 -0.272329 -0.299411  0.269515  1.013366   \n",
      "495   1 -0.417713  3.157316 -1.515487 -0.272329 -1.248688  0.139999 -1.167895   \n",
      "496   1 -0.401575 -0.487240 -0.616117 -0.272329 -0.920756 -0.104800 -2.205237   \n",
      "497   1  0.360888 -0.487240  1.014995 -0.272329  1.366138  0.660908  0.853502   \n",
      "498   1 -0.092442 -0.487240  1.014995 -0.272329 -0.195854 -0.743840 -1.004478   \n",
      "499   1 -0.414192 -0.487240 -0.866833 -0.272329 -0.342560  0.044641 -1.082634   \n",
      "500   1 -0.405478  1.442231 -1.121922 -0.272329 -1.015684  0.386221 -1.402362   \n",
      "501   1 -0.418521  2.728545 -1.040293 -0.272329 -1.248688 -0.564510 -0.745142   \n",
      "502   1  0.593292 -0.487240  1.014995 -0.272329  1.193543  0.265245  1.073759   \n",
      "503   1 -0.414800 -0.487240  0.401324  3.664771 -0.040517 -0.564510 -0.446729   \n",
      "504   1 -0.409345  0.799074 -0.904732 -0.272329 -1.093352  0.457384 -0.936979   \n",
      "505   1  5.524853 -0.487240  1.014995 -0.272329  0.365083 -0.750956  1.116390   \n",
      "\n",
      "           8         9         10        11        12        13    14  \n",
      "0   -0.937519 -0.637331  1.796416  0.759588  0.420790  0.757161  15.2  \n",
      "1    0.769744 -0.522484 -0.719350  0.528635  0.405346 -1.060495  24.6  \n",
      "2   -1.036773 -0.637331  0.170662  1.267684  0.344006  1.611376  14.0  \n",
      "3   -0.016737 -0.637331 -0.600682  1.175303 -1.186967  1.076442  13.5  \n",
      "4   -0.858211  1.659603  1.529413  0.805778 -3.435177  1.586170  11.8  \n",
      "5   -0.428522 -0.407638 -0.102275  0.343873  0.440616  0.202622  18.3  \n",
      "6   -0.712132  1.659603  1.529413  0.805778 -0.065984  0.215225  19.9  \n",
      "7   -0.480571  1.659603  1.529413  0.805778 -0.925178  0.500897  14.9  \n",
      "8   -0.629309 -0.637331  0.170662  1.267684  0.350688  0.332855  18.4  \n",
      "9    0.471175 -0.637331 -0.915152 -0.395176  0.356821 -0.924661  33.2  \n",
      "10   1.434033 -0.637331 -0.980420 -0.764700  0.408522 -0.451342  20.5  \n",
      "11   0.628271 -0.637331 -1.093155 -1.734701  0.395487 -1.238340  48.5  \n",
      "12  -0.612640 -0.981871 -0.802418  1.175303  0.440616 -0.668397  11.9  \n",
      "13  -0.811196 -0.867024 -1.306758  0.297683  0.234580  0.738957  20.5  \n",
      "14  -0.867566  1.659603  1.529413  0.805778 -3.241738  1.600173   9.5  \n",
      "15   3.224878 -0.637331 -0.440480  1.637208  0.286171 -0.644591  18.2  \n",
      "16  -0.500564 -0.752178 -1.277091 -0.302794  0.425938 -0.713208  39.8  \n",
      "17  -0.248345 -0.177944 -0.600682 -0.487557  0.440616 -0.707607  30.1  \n",
      "18  -0.930965  1.659603  1.529413  0.805778 -3.608352  2.296148   7.2  \n",
      "19  -0.330408  1.659603  1.529413  0.805778  0.423419  0.030379  19.6  \n",
      "20  -0.616867  1.659603  1.529413  0.805778 -3.833666  0.848184  14.9  \n",
      "21  -0.897722  1.659603  1.529413  0.805778 -0.039805  0.278241  16.8  \n",
      "22   0.000692 -0.637331 -0.600682  1.175303  0.375442 -0.192277  18.2  \n",
      "23  -0.948204 -0.522484 -0.031074 -1.734701 -0.194469 -1.001681  27.0  \n",
      "24  -0.799893 -0.637331  0.170662  1.267684  0.416190  0.603123  18.1  \n",
      "25   2.373098 -0.981871 -0.434546  0.574826  0.440616 -0.934464  22.9  \n",
      "26   1.154792 -0.522484 -0.576948 -1.503749  0.440616  0.086393  18.9  \n",
      "27  -0.445903 -0.522484 -0.143809  1.129112  0.426157 -0.697804  26.5  \n",
      "28   0.467470 -0.752178 -0.956686  0.020539  0.440616 -0.424736  23.9  \n",
      "29  -1.082031 -0.522484 -0.031074 -1.734701 -2.052734  0.559712  15.6  \n",
      "..        ...       ...       ...       ...       ...       ...   ...  \n",
      "476 -0.923794 -0.637331  0.170662  1.267684  0.409727  0.271239  17.1  \n",
      "477 -0.483088 -0.522484 -0.143809  1.129112  0.403264  0.048583  21.7  \n",
      "478 -0.252762 -0.637331 -0.618482 -0.025651  0.402169 -0.665596  21.6  \n",
      "479 -1.047458  1.659603  1.529413  0.805778 -1.595972  1.040033  16.3  \n",
      "480 -0.717878 -0.522484 -0.031074 -1.734701 -1.276239 -0.398129  25.0  \n",
      "481 -0.658183 -0.407638 -0.102275  0.343873  0.440616  0.037381  21.2  \n",
      "482  0.708672 -0.637331 -0.612548  0.343873  0.375004 -0.998880  22.8  \n",
      "483  1.173883 -0.981871  0.081661 -1.180415  0.364598 -0.560570  16.5  \n",
      "484  0.556609 -0.867024 -0.986353 -0.302794  0.396035 -1.207532  34.7  \n",
      "485 -1.009798 -0.637331  0.170662  1.267684  0.440616  0.813176  17.8  \n",
      "486  0.483047 -0.522484 -1.093155  0.805778  0.440616 -0.470947  18.7  \n",
      "487 -1.064317  1.659603  1.529413  0.805778 -3.591484  3.041136  17.9  \n",
      "488  0.066086 -0.522484 -0.766817  0.343873  0.440616 -0.543766  21.0  \n",
      "489  0.140312 -0.522484 -0.060741  0.112920  0.331738 -0.333713  20.8  \n",
      "490 -1.157350  1.659603  1.529413  0.805778  0.440616  1.202473  13.3  \n",
      "491  1.434033 -0.637331 -0.980420 -0.764700  0.440616 -0.591378  23.4  \n",
      "492  1.915153 -0.522484 -0.298078 -1.688511  0.126688 -1.075899  22.5  \n",
      "493  0.140075 -0.981871 -0.665949 -1.457558  0.440616 -1.074499  24.0  \n",
      "494 -0.646880 -0.522484 -0.143809  1.129112  0.422433 -0.053642  19.8  \n",
      "495  2.560921 -0.867024 -0.565081 -0.533747  0.440616 -0.963871  24.7  \n",
      "496  0.914588 -0.752178 -1.039754 -0.256604  0.413889 -0.730012  24.7  \n",
      "497 -0.698787  1.659603  1.529413  0.805778 -3.903331  0.670340  13.4  \n",
      "498  0.144017  1.659603  1.529413  0.805778  0.397021 -0.312707  21.8  \n",
      "499  1.264826 -0.522484 -1.093155  0.805778  0.361860 -0.976474  22.2  \n",
      "500  0.366459 -0.522484 -0.060741 -1.503749  0.286609 -1.133314  29.8  \n",
      "501  1.673857 -0.752178  0.360531  1.221493  0.440616  0.300647  18.9  \n",
      "502 -0.982729  1.659603  1.529413  0.805778  0.386725  0.625528  13.1  \n",
      "503 -0.324329 -0.522484 -0.784617 -0.949462  0.395706  0.120001  23.3  \n",
      "504  1.137316 -0.407638 -0.642216 -0.857081  0.296906 -0.739815  23.3  \n",
      "505 -1.131230  1.659603  1.529413  0.805778 -3.878357 -0.356118  15.0  \n",
      "\n",
      "[506 rows x 15 columns]\n"
     ]
    }
   ],
   "source": [
    "cols = df_t.columns.tolist()\n",
    "cols = [0] + cols[:]\n",
    "df_intercept = df_t.reindex(columns=cols)\n",
    "df_intercept[0] = 1\n",
    "# print(df_intercept)\n",
    "df_resample = df_intercept.sample(frac=1).reset_index(drop=True)\n",
    "print(df_resample)\n"
   ]
  },
  {
   "cell_type": "code",
   "execution_count": 76,
   "metadata": {},
   "outputs": [],
   "source": [
    "n = len(cols)\n",
    "train_X = np.array(df_resample.loc[0:399, 0:n - 2])\n",
    "train_y = np.array(df_resample.loc[0:399, n - 1], ndmin=2)\n",
    "train_y = train_y.transpose()\n",
    "test_X = np.array(df_resample.loc[400:506, 0:n - 2])\n",
    "test_y = np.array(df_resample.loc[400:506, n - 1], ndmin=2)\n",
    "test_y = test_y.transpose()\n"
   ]
  },
  {
   "cell_type": "code",
   "execution_count": 77,
   "metadata": {},
   "outputs": [
    {
     "name": "stdout",
     "output_type": "stream",
     "text": [
      "[[0.88490955]\n",
      " [0.32436969]\n",
      " [0.78277892]\n",
      " [0.82783844]\n",
      " [0.18602187]\n",
      " [0.36085497]\n",
      " [0.44848396]\n",
      " [0.53066204]\n",
      " [0.47590761]\n",
      " [0.19815593]\n",
      " [0.10852857]\n",
      " [0.62692142]\n",
      " [0.37511873]\n",
      " [0.29622929]]\n"
     ]
    }
   ],
   "source": [
    "theta = np.random.rand(n - 1, 1)\n",
    "# theta = pd.DataFrame(theta)\n",
    "print(theta)\n"
   ]
  },
  {
   "cell_type": "code",
   "execution_count": 84,
   "metadata": {},
   "outputs": [],
   "source": [
    "def linear_regression(X, y, theta):\n",
    "    iteration = 10000\n",
    "    alpha = 0.001\n",
    "    cost_history = []\n",
    "    theta_history = [theta]\n",
    "    m = len(y)\n",
    "    for i in range(iteration):\n",
    "        h = np.dot(X, theta)\n",
    "        loss = h - y\n",
    "        cost = np.dot(loss.T, loss) / (2 * m)\n",
    "        cost_history.append(cost[0])\n",
    "        gradient = np.dot(X.T, loss) / m\n",
    "        theta = theta - alpha * gradient\n",
    "        theta_history.append(theta)\n",
    "    return theta_history, cost_history\n"
   ]
  },
  {
   "cell_type": "code",
   "execution_count": 85,
   "metadata": {},
   "outputs": [
    {
     "name": "stdout",
     "output_type": "stream",
     "text": [
      "[[22.42115409]\n",
      " [-0.91668345]\n",
      " [ 0.49722798]\n",
      " [-0.22024889]\n",
      " [ 0.27863473]\n",
      " [-1.31711966]\n",
      " [ 2.84788065]\n",
      " [ 0.04602561]\n",
      " [-2.30000335]\n",
      " [ 1.59899571]\n",
      " [-1.07027606]\n",
      " [-2.0142932 ]\n",
      " [ 1.01217714]\n",
      " [-3.7665165 ]]\n"
     ]
    },
    {
     "data": {
      "text/plain": [
       "[<matplotlib.lines.Line2D at 0x111364cf8>]"
      ]
     },
     "execution_count": 85,
     "metadata": {},
     "output_type": "execute_result"
    },
    {
     "data": {
      "image/png": "[encoded data removed]",
      "text/plain": [
       "<Figure size 432x288 with 1 Axes>"
      ]
     },
     "metadata": {},
     "output_type": "display_data"
    }
   ],
   "source": [
    "theta_history, cost_history = linear_regression(train_X, train_y, theta)\n",
    "theta_result = theta_history[-1]\n",
    "print(theta_result)\n",
    "plt.title('Cost Function J')\n",
    "plt.xlabel('No. iteration')\n",
    "plt.ylabel('Cost')\n",
    "plt.plot(cost_history)"
   ]
  },
  {
   "cell_type": "code",
   "execution_count": 86,
   "metadata": {},
   "outputs": [
    {
     "name": "stdout",
     "output_type": "stream",
     "text": [
      "The root-mean-square of the error in training data: 4.607260806980865\n"
     ]
    },
    {
     "data": {
      "image/png": "[encoded data removed]",
      "text/plain": [
       "<Figure size 432x288 with 1 Axes>"
      ]
     },
     "metadata": {},
     "output_type": "display_data"
    }
   ],
   "source": [
    "import math\n",
    "x_axis = [i for i in range(400)]\n",
    "actual_price = train_y\n",
    "predict_price = np.dot(train_X, theta_result)\n",
    "train_rms = np.sqrt(np.mean((predict_price - actual_price) ** 2))\n",
    "print(\"The root-mean-square of the error in training data: {}\".format(train_rms))\n",
    "x_axis = [i for i in range(400)]\n",
    "plt.plot(x_axis, actual_price, 'ro', x_axis, predict_price, 'bo')\n",
    "plt.show()"
   ]
  },
  {
   "cell_type": "code",
   "execution_count": 87,
   "metadata": {},
   "outputs": [
    {
     "name": "stdout",
     "output_type": "stream",
     "text": [
      "The root-mean-square of the error in testing data: 5.2528845936531425\n"
     ]
    },
    {
     "data": {
      "image/png": "[encoded data removed]",
      "text/plain": [
       "<Figure size 432x288 with 1 Axes>"
      ]
     },
     "metadata": {},
     "output_type": "display_data"
    }
   ],
   "source": [
    "actual_price = test_y\n",
    "predict_price = np.dot(test_X, theta_result)\n",
    "test_rms = np.sqrt(np.mean((predict_price - actual_price) ** 2))\n",
    "print(\"The root-mean-square of the error in testing data: {}\".format(test_rms))\n",
    "x_axis = [i for i in range(106)]\n",
    "plt.plot(x_axis, actual_price, 'ro', x_axis, predict_price, 'bo')\n",
    "plt.show()"
   ]
  }
 ],
 "metadata": {
  "kernelspec": {
   "display_name": "Python 3",
   "language": "python",
   "name": "python3"
  },
  "language_info": {
   "codemirror_mode": {
    "name": "ipython",
    "version": 3
   },
   "file_extension": ".py",
   "mimetype": "text/x-python",
   "name": "python",
   "nbconvert_exporter": "python",
   "pygments_lexer": "ipython3",
   "version": "3.6.5"
  }
 },
 "nbformat": 4,
 "nbformat_minor": 2
}
