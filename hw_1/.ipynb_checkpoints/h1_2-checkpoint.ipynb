{
 "cells": [
  {
   "cell_type": "markdown",
   "metadata": {},
   "source": [
    "H1.2 Exercise 1.10 in AMLbook\n",
    "---------------------------\n",
    "\n",
    "Fliping 1,000 fair coins independently 10 times"
   ]
  },
  {
   "cell_type": "markdown",
   "metadata": {},
   "source": [
    "Import library and function definition"
   ]
  },
  {
   "cell_type": "code",
   "execution_count": 312,
   "metadata": {},
   "outputs": [],
   "source": [
    "from random import randrange\n",
    "from matplotlib import pyplot as plt\n",
    "import math\n",
    "\n",
    "def flip(times):\n",
    "    # return the number of heads after flipping for a coin\n",
    "    head = 0\n",
    "    for _ in range(times):\n",
    "        if randrange(2) > 0:\n",
    "            head += 1\n",
    "    return head\n",
    "\n",
    "\n",
    "def flip_multiple_coins(coins_number, flip_times):\n",
    "    # return the probability of each coin that got heads\n",
    "    p = []\n",
    "    for i in range(coins_number):\n",
    "        p.append(flip(flip_times))\n",
    "    return p\n",
    "\n",
    "def find_min(probability, min_feq):\n",
    "    # return the minimum frequency found in the experiment\n",
    "    for i in range(len(p_coins)):\n",
    "        if p_coins[i] < min_feq:\n",
    "            c_min = i\n",
    "            min_feq = p_coins[i]\n",
    "    return min_feq\n"
   ]
  },
  {
   "cell_type": "markdown",
   "metadata": {},
   "source": [
    "#### (a) mu of the three coins selected\n",
    "Because we are flipping fair coins, the probability the result would be:\n",
    "\\begin{align}\n",
    "\\mu_1 = 0.5\\\\\n",
    "\\mu_{rand} = 0.5\\\\\n",
    "\\mu_{min} = 0.5\n",
    "\\end{align}\n"
   ]
  },
  {
   "cell_type": "code",
   "execution_count": 308,
   "metadata": {},
   "outputs": [
    {
     "name": "stdout",
     "output_type": "stream",
     "text": [
      "p_1: 3, p_rand: 3, p_min: 0\n"
     ]
    }
   ],
   "source": [
    "number_of_coins = 1000\n",
    "time_of_flips = 10\n",
    "p_coins = flip_multiple_coins(number_of_coins, time_of_flips)\n",
    "min_feq = find_min(p_coins, time_of_flips)\n",
    "\n",
    "print(\"p_1: {0}, p_rand: {1}, p_min: {2}\".format(p_coins[0], p_coins[randrange(number_of_coins)], min_feq))\n"
   ]
  },
  {
   "cell_type": "markdown",
   "metadata": {},
   "source": [
    "#### (b) repeat the experiment for 100,000 runs"
   ]
  },
  {
   "cell_type": "code",
   "execution_count": 317,
   "metadata": {},
   "outputs": [
    {
     "data": {
      "image/png": "[encoded data removed]",
      "text/plain": [
       "<Figure size 432x288 with 1 Axes>"
      ]
     },
     "metadata": {},
     "output_type": "display_data"
    },
    {
     "data": {
      "image/png": "[encoded data removed]",
      "text/plain": [
       "<Figure size 432x288 with 1 Axes>"
      ]
     },
     "metadata": {},
     "output_type": "display_data"
    },
    {
     "data": {
      "image/png": "[encoded data removed]",
      "text/plain": [
       "<Figure size 432x288 with 1 Axes>"
      ]
     },
     "metadata": {},
     "output_type": "display_data"
    }
   ],
   "source": [
    "number_of_epochs = 100000\n",
    "\n",
    "p_1 = []\n",
    "p_rand = []\n",
    "p_min = []\n",
    "\n",
    "for _ in range(number_of_epochs):\n",
    "    p_coins = flip_multiple_coins(number_of_coins, time_of_flips)\n",
    "    min_feq = find_min(p_coins, time_of_flips)\n",
    "\n",
    "    p_1.append(p_coins[0])\n",
    "    p_rand.append(p_coins[randrange(number_of_coins)])\n",
    "    p_min.append(min_feq)\n",
    "\n",
    "bins = [x for x in range(time_of_flips + 1)]\n",
    "plt.hist(p_1, bins)\n",
    "# print(\"n: {0}, bins: {1}, patches: {2}\".format(n, bins, patches))\n",
    "plt.title('Histogram of the first coin')\n",
    "plt.show()\n",
    "plt.hist(p_rand, bins)\n",
    "plt.title('Histogram of the random coin')\n",
    "plt.show()\n",
    "plt.hist(p_min, bins)\n",
    "plt.title('Histogram of the coin that got minimum heads')\n",
    "plt.show()\n"
   ]
  },
  {
   "cell_type": "markdown",
   "metadata": {},
   "source": [
    "#### (c) plot estimation of Hoeffding bound"
   ]
  },
  {
   "cell_type": "code",
   "execution_count": null,
   "metadata": {},
   "outputs": [],
   "source": [
    "\n",
    "        "
   ]
  }
 ],
 "metadata": {
  "kernelspec": {
   "display_name": "Python 3",
   "language": "python",
   "name": "python3"
  },
  "language_info": {
   "codemirror_mode": {
    "name": "ipython",
    "version": 3
   },
   "file_extension": ".py",
   "mimetype": "text/x-python",
   "name": "python",
   "nbconvert_exporter": "python",
   "pygments_lexer": "ipython3",
   "version": "3.6.5"
  }
 },
 "nbformat": 4,
 "nbformat_minor": 2
}
