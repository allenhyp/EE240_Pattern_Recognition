{
 "cells": [
  {
   "cell_type": "markdown",
   "metadata": {},
   "source": [
    "Principal component analysis (PCA)\n",
    "=================================="
   ]
  },
  {
   "cell_type": "markdown",
   "metadata": {},
   "source": [
    "### (a) Energy captured by the first k principal components\n",
    "energy = the cumulative sum of top-k components variances / sum of all the variances"
   ]
  },
  {
   "cell_type": "code",
   "execution_count": 30,
   "metadata": {},
   "outputs": [],
   "source": [
    "import numpy as np\n",
    "import numpy.matlib as npm\n",
    "from PIL import Image\n",
    "import os\n",
    "import matplotlib.pyplot as plt\n",
    "from scipy.spatial import distance\n",
    "%matplotlib inline"
   ]
  },
  {
   "cell_type": "markdown",
   "metadata": {},
   "source": [
    "Initialize (load and split) the training and testing data.  \n",
    "With image size 92x112, train by test ratio as 6 by 4, find the energy with the top 25 eigenvalue/eigenvectors"
   ]
  },
  {
   "cell_type": "code",
   "execution_count": 21,
   "metadata": {},
   "outputs": [],
   "source": [
    "m = 92\n",
    "n = 112\n",
    "K = 25\n",
    "cv_ratio = 6\n",
    "X_training =np.zeros((m * n, 40 * cv_ratio))\n",
    "X_testing = np.zeros((m * n, 40 * (10 - cv_ratio)))\n",
    "y_training = (npm.repmat(np.arange(40), cv_ratio, 1).T).reshape(40 * cv_ratio, )\n",
    "y_testing = (npm.repmat(np.arange(40), (10 - cv_ratio), 1).T).reshape(40 * (10 - cv_ratio), )"
   ]
  },
  {
   "cell_type": "code",
   "execution_count": 25,
   "metadata": {},
   "outputs": [],
   "source": [
    "data_root_dir = './att_faces/'\n",
    "first_level_dirs = os.listdir(data_root_dir)\n",
    "tr_cnt, te_cnt = 0, 0\n",
    "for fd in first_level_dirs:\n",
    "    if os.path.isdir(data_root_dir + fd):\n",
    "        ind = np.random.permutation(range(1,11))\n",
    "        img_dirs = os.listdir(data_root_dir + fd)\n",
    "        for i in range(cv_ratio):\n",
    "            img = np.array(Image.open(data_root_dir + fd + '/' + img_dirs[i]))\n",
    "            X_training[:, tr_cnt] = img.reshape(m * n, order='A')\n",
    "            tr_cnt += 1\n",
    "        for i in range(cv_ratio, 10):\n",
    "            img = np.array(Image.open(data_root_dir + fd + '/' + img_dirs[i]))\n",
    "            X_testing[:, te_cnt] = img.reshape(m * n, order='A')\n",
    "            te_cnt += 1\n"
   ]
  },
  {
   "cell_type": "markdown",
   "metadata": {},
   "source": [
    "Get the mean of all images over the rows, and substract from all training images"
   ]
  },
  {
   "cell_type": "code",
   "execution_count": 34,
   "metadata": {},
   "outputs": [],
   "source": [
    "tr_mean_substracted = X_training - np.mean(X_training, axis=1).reshape(m * n, 1)\n",
    "te_mean_substracted = X_testing - np.mean(X_testing, axis=1).reshape(m * n, 1)"
   ]
  },
  {
   "cell_type": "markdown",
   "metadata": {},
   "source": [
    "Compute the covarriance matrix and energy"
   ]
  },
  {
   "cell_type": "code",
   "execution_count": 35,
   "metadata": {},
   "outputs": [],
   "source": [
    "cov = np.dot(tr_mc.T, tr_mean_substracted) / (m * n)\n",
    "cov_T = np.dot(tr_mc, tr_mean_substracted.T) / (m * n)\n",
    "varriance = sorted(np.diag(cov_T), reverse=True)\n",
    "energy = np.cumsum(varriance) / np.sum(varriance)"
   ]
  },
  {
   "cell_type": "markdown",
   "metadata": {},
   "source": [
    "Eigenvalue and Eigenvector of the covarriance matrix, with decreasing order"
   ]
  },
  {
   "cell_type": "code",
   "execution_count": 48,
   "metadata": {},
   "outputs": [],
   "source": [
    "eigenvalue, eigenvector = np.linalg.eig(cov)\n",
    "sort_indices = eigenvalue.argsort()[::-1]"
   ]
  },
  {
   "cell_type": "markdown",
   "metadata": {},
   "source": [
    "Include only the first k eigenvectors and eigenvalues, for capturing 50% of the energy"
   ]
  },
  {
   "cell_type": "code",
   "execution_count": 57,
   "metadata": {},
   "outputs": [
    {
     "name": "stdout",
     "output_type": "stream",
     "text": [
      "6 components needed to cpature 50% of the energy.\n",
      "Top K=25 components captured 74.47320344117668% of the energy.\n"
     ]
    }
   ],
   "source": [
    "evl = eigenvalue[sort_indices]\n",
    "ev_sum = np.sum(evl)\n",
    "ev_engy = 0.\n",
    "ev_cnt = 0\n",
    "pass_50 = False\n",
    "for i in range(K):\n",
    "    ev_engy += evl[i] / ev_sum\n",
    "    ev_cnt += 1\n",
    "    if ev_engy >= 0.50 and not pass_50:\n",
    "        pass_50 = True\n",
    "        print(\"{0} components needed to cpature 50% of the energy.\".format(ev_cnt))\n",
    "print(\"Top K=25 components captured {0}% of the energy.\".format(ev_engy*100))"
   ]
  },
  {
   "cell_type": "markdown",
   "metadata": {},
   "source": [
    "### (b) Top 25 eigenfaces"
   ]
  },
  {
   "cell_type": "code",
   "execution_count": 42,
   "metadata": {},
   "outputs": [
    {
     "name": "stdout",
     "output_type": "stream",
     "text": [
      "0.7375\n"
     ]
    }
   ],
   "source": [
    "egvlK = np.sqrt(eigenvalue[sort_indices[:K]])\n",
    "egvtK = np.dot(X_training, np.dot(eigenvector[:, sort_indices[:K]], np.diag(egvlK)))\n",
    "tr_X_projection = np.dot(egvtK.T, tr_mean_substracted)\n",
    "te_X_projection = np.dot(egvtK.T, te_mean_substracted)\n",
    "ind_tmatch = np.argmin(distance.cdist(tr_X_projection.T, te_X_projection.T, 'euclidean'), axis=0)\n",
    "accuracy = np.sum(y_testing == y_training[ind_tmatch])/len(y_testing)\n",
    "print(accuracy)"
   ]
  },
  {
   "cell_type": "code",
   "execution_count": 41,
   "metadata": {},
   "outputs": [
    {
     "data": {
      "image/png": "[encoded data removed]",
      "text/plain": [
       "<Figure size 432x288 with 1 Axes>"
      ]
     },
     "metadata": {},
     "output_type": "display_data"
    }
   ],
   "source": [
    "plt.plot(energy, 'r-')\n",
    "plt.title('Energy')\n",
    "plt.show()"
   ]
  },
  {
   "cell_type": "code",
   "execution_count": null,
   "metadata": {},
   "outputs": [],
   "source": []
  }
 ],
 "metadata": {
  "kernelspec": {
   "display_name": "Python 3",
   "language": "python",
   "name": "python3"
  },
  "language_info": {
   "codemirror_mode": {
    "name": "ipython",
    "version": 3
   },
   "file_extension": ".py",
   "mimetype": "text/x-python",
   "name": "python",
   "nbconvert_exporter": "python",
   "pygments_lexer": "ipython3",
   "version": "3.6.5"
  }
 },
 "nbformat": 4,
 "nbformat_minor": 2
}
