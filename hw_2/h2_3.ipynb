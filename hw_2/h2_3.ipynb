{
 "cells": [
  {
   "cell_type": "markdown",
   "metadata": {},
   "source": [
    "H2.3 SVM for XOR pattern\n",
    "========================"
   ]
  },
  {
   "cell_type": "code",
   "execution_count": 1,
   "metadata": {},
   "outputs": [],
   "source": [
    "import numpy as np\n",
    "from sklearn import svm\n",
    "from math import sqrt\n",
    "\n",
    "X = np.array([[-1, -1], [-1, 1], [1, -1], [1, 1]])\n",
    "y = np.array([[1], [-1], [-1], [1]])\n"
   ]
  },
  {
   "cell_type": "markdown",
   "metadata": {},
   "source": [
    "### (a) Linearly separable?\n",
    "First, generate a 2D kerenl function for mapping to 6D feature vector"
   ]
  },
  {
   "cell_type": "code",
   "execution_count": 115,
   "metadata": {},
   "outputs": [],
   "source": [
    "def kernel_function(X):\n",
    "    phi = np.zeros((4, 6))\n",
    "    for i in range(4):\n",
    "        phi[i] = [1, sqrt(2) * X[i, 0], sqrt(2) * X[i, 1], X[i, 0]**2, X[i, 1]**2, sqrt(2) * X[i, 0] * X[i, 1]]\n",
    "    return phi\n",
    "\n",
    "def regression(X, y):\n",
    "#     w = np.array([[0], [0], [0], [0], [0], [0]])\n",
    "    w = np.zeros(6)\n",
    "    y_hat = 0.\n",
    "    for i in range(4):\n",
    "        h = np.dot(w, X[i])\n",
    "        h = 0.\n",
    "        if h > 0.:\n",
    "            y_hat = 1.\n",
    "        elif h < 0:\n",
    "            y_hat = -1.\n",
    "        error = y[i, 0] - y_hat\n",
    "        w += np.dot(error, X[i])\n",
    "    return w\n"
   ]
  },
  {
   "cell_type": "code",
   "execution_count": 116,
   "metadata": {},
   "outputs": [
    {
     "name": "stdout",
     "output_type": "stream",
     "text": [
      "[0.         0.         0.         0.         0.         5.65685425]\n"
     ]
    }
   ],
   "source": [
    "Xt = kernel_function(X)\n",
    "w = regression(Xt, y)\n",
    "print(w)"
   ]
  },
  {
   "cell_type": "code",
   "execution_count": 109,
   "metadata": {},
   "outputs": [
    {
     "name": "stdout",
     "output_type": "stream",
     "text": [
      "separatable: 100.0%\n"
     ]
    }
   ],
   "source": [
    "score = 0\n",
    "for i in range(4):\n",
    "    prediction = 1 if np.dot(w, Xt[i]) > 0 else -1\n",
    "    if prediction == y[i, 0]:\n",
    "        score += 1\n",
    "print('separatable: {0}%'.format(score*100/len(y)))"
   ]
  },
  {
   "cell_type": "markdown",
   "metadata": {},
   "source": [
    "### (b) G matrix"
   ]
  },
  {
   "cell_type": "code",
   "execution_count": 119,
   "metadata": {},
   "outputs": [
    {
     "name": "stdout",
     "output_type": "stream",
     "text": [
      "G = [[ 9. -1. -1.  1.]\n",
      " [-1.  9.  1. -1.]\n",
      " [-1.  1.  9. -1.]\n",
      " [ 1. -1. -1.  9.]]\n"
     ]
    }
   ],
   "source": [
    "def generate_G(phi, y):\n",
    "    G = np.zeros((4,4))\n",
    "    for i in range(4):\n",
    "        for j in range(4):\n",
    "            G[i, j] = y[i,0] * y[j,0] * np.dot(phi[i,:], phi[j,:])\n",
    "    return G\n",
    "\n",
    "G = generate_G(Xt, y)\n",
    "print(\"G = {0}\".format(G))"
   ]
  },
  {
   "cell_type": "markdown",
   "metadata": {},
   "source": [
    "### (c) Alpha"
   ]
  },
  {
   "cell_type": "code",
   "execution_count": 120,
   "metadata": {},
   "outputs": [
    {
     "name": "stdout",
     "output_type": "stream",
     "text": [
      "alpha = [[0.125]\n",
      " [0.125]\n",
      " [0.125]\n",
      " [0.125]]\n"
     ]
    }
   ],
   "source": [
    "G_inverse = np.linalg.inv(G)\n",
    "alpha = np.dot(G_inverse, np.ones((4, 1)))\n",
    "print(\"alpha = {0}\".format(alpha))"
   ]
  },
  {
   "cell_type": "markdown",
   "metadata": {},
   "source": [
    "### (d) SVM"
   ]
  },
  {
   "cell_type": "code",
   "execution_count": 124,
   "metadata": {},
   "outputs": [],
   "source": [
    "def svm_fit(X, y, alpha):\n",
    "    w = np.zeros((6,1))\n",
    "    for i in range(6):\n",
    "        for j in range(4):\n",
    "            w[i] = w[i] + alpha[j] * y[j, 0] * X[j, i]\n",
    "    return w\n",
    "\n",
    "def svm_predict(X, w, d):\n",
    "    return np.dot(w.T, X[d])\n"
   ]
  },
  {
   "cell_type": "code",
   "execution_count": 125,
   "metadata": {},
   "outputs": [
    {
     "name": "stdout",
     "output_type": "stream",
     "text": [
      "SVM weights: [[ 0.00000000e+00]\n",
      " [ 0.00000000e+00]\n",
      " [-5.55111512e-17]\n",
      " [ 0.00000000e+00]\n",
      " [ 0.00000000e+00]\n",
      " [ 7.07106781e-01]]\n"
     ]
    },
    {
     "data": {
      "text/plain": [
       "array([-1.])"
      ]
     },
     "execution_count": 125,
     "metadata": {},
     "output_type": "execute_result"
    }
   ],
   "source": [
    "weights = svm_fit(Xt, y, alpha)\n",
    "print(\"SVM weights: {0}\".format(weights))\n",
    "svm_predict(Xt, weights, 2)"
   ]
  }
 ],
 "metadata": {
  "kernelspec": {
   "display_name": "Python 3",
   "language": "python",
   "name": "python3"
  },
  "language_info": {
   "codemirror_mode": {
    "name": "ipython",
    "version": 3
   },
   "file_extension": ".py",
   "mimetype": "text/x-python",
   "name": "python",
   "nbconvert_exporter": "python",
   "pygments_lexer": "ipython3",
   "version": "3.6.5"
  }
 },
 "nbformat": 4,
 "nbformat_minor": 2
}
