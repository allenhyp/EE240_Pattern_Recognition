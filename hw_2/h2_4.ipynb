{
 "cells": [
  {
   "cell_type": "markdown",
   "metadata": {},
   "source": [
    "H2.4 Support Vector Machine (SVM)\n",
    "=================================\n"
   ]
  },
  {
   "cell_type": "code",
   "execution_count": 29,
   "metadata": {},
   "outputs": [],
   "source": [
    "from sklearn.datasets import fetch_mldata\n",
    "from sklearn import svm\n",
    "from sklearn.model_selection import GridSearchCV\n",
    "mnist = fetch_mldata('MNIST original')"
   ]
  },
  {
   "cell_type": "code",
   "execution_count": 11,
   "metadata": {},
   "outputs": [],
   "source": [
    "import numpy as np\n",
    "import matplotlib.pyplot as plt\n",
    "from matplotlib.colors import ListedColormap"
   ]
  },
  {
   "cell_type": "code",
   "execution_count": 68,
   "metadata": {},
   "outputs": [],
   "source": [
    "X = mnist.data\n",
    "y = mnist.target\n",
    "X4 = X[y == 4, :]\n",
    "X9 = X[y == 9, :]\n",
    "training_X = np.concatenate((X4[:4000], X9[:4000]))\n",
    "testing_X = np.concatenate((X4[4000:], X9[4000:]))\n",
    "training_y = np.concatenate((np.ones(4000) * 4, np.ones(4000) * 9))\n",
    "testing_y = np.concatenate((np.ones(len(X4) - 4000) * 4, np.ones(len(X9) - 4000) * 9))"
   ]
  },
  {
   "cell_type": "code",
   "execution_count": 13,
   "metadata": {},
   "outputs": [
    {
     "data": {
      "text/plain": [
       "SVC(C=1.0, cache_size=200, class_weight=None, coef0=0.0,\n",
       "  decision_function_shape='ovr', degree=3, gamma='auto', kernel='linear',\n",
       "  max_iter=-1, probability=False, random_state=None, shrinking=True,\n",
       "  tol=0.001, verbose=False)"
      ]
     },
     "execution_count": 13,
     "metadata": {},
     "output_type": "execute_result"
    }
   ],
   "source": [
    "clf = svm.SVC(C=1.0, kernel='linear')\n",
    "clf.fit(training_X, training_y)"
   ]
  },
  {
   "cell_type": "code",
   "execution_count": 17,
   "metadata": {},
   "outputs": [
    {
     "name": "stdout",
     "output_type": "stream",
     "text": [
      "0.08978675645342316\n"
     ]
    }
   ],
   "source": [
    "Pe = 1 - clf.score(testing_X, testing_y)"
   ]
  },
  {
   "cell_type": "code",
   "execution_count": 69,
   "metadata": {},
   "outputs": [],
   "source": [
    "def svc_param_selection(X, y, kernel, degree=3, nfolds=2):\n",
    "    Cs = [10.**(-c) for c in range(9,-1,-1)]\n",
    "    gammas = [0.001, 0.01, 0.1, 1]\n",
    "    param_grid = {'C': Cs, 'gamma': gammas}\n",
    "    grid_search = GridSearchCV(svm.SVC(kernel=kernel, degree=degree), param_grid, cv=nfolds)\n",
    "    grid_search.fit(X, y)\n",
    "    grid_search.best_params_\n",
    "    return grid_search.best_params_"
   ]
  },
  {
   "cell_type": "markdown",
   "metadata": {},
   "source": [
    "### (a) Inhomogeneous linear and quadratic kernel"
   ]
  },
  {
   "cell_type": "code",
   "execution_count": 70,
   "metadata": {},
   "outputs": [
    {
     "name": "stdout",
     "output_type": "stream",
     "text": [
      "best C for p1: 1e-06\n",
      "p1 error rate: 0.07903839501902454\n",
      "best C for p2: 1e-09\n",
      "p2 error rate: 0.03510895883777243\n"
     ]
    }
   ],
   "source": [
    "p1_params = svc_param_selection(training_X, training_y, 'poly', degree=1)\n",
    "p2_params = svc_param_selection(training_X, training_y, 'poly', degree=2)\n",
    "print(\"best C for p1: {0}\".format(p1_params['C']))\n",
    "clf_p1 = svm.SVC(C=p1_params['C'], kernel='poly', degree=1)\n",
    "clf_p1.fit(training_X, training_y)\n",
    "Pe_1 = 1 - clf_p1.score(testing_X, testing_y)\n",
    "print(\"p1 error rate: {0}\".format(Pe_1))\n",
    "\n",
    "print(\"best C for p2: {0}\".format(p2_params['C']))\n",
    "clf_p2 = svm.SVC(C=p2_params['C'], kernel='poly', degree=2)\n",
    "clf_p2.fit(training_X, training_y)\n",
    "Pe_2 = 1 - clf_p2.score(testing_X, testing_y)\n",
    "print(\"p2 error rate: {0}\".format(Pe_2))"
   ]
  },
  {
   "cell_type": "markdown",
   "metadata": {},
   "source": [
    "### (b) Radial basis function kernel"
   ]
  },
  {
   "cell_type": "code",
   "execution_count": null,
   "metadata": {},
   "outputs": [],
   "source": [
    "rbf_params = svc_param_selection(training_X, training_y, 'rbf')\n",
    "print(\"best C for p1: {0}, gamma: {1}\".format(rbf_params['C'], rbf_params['gamma']))\n",
    "clf_rbf = svm.SVC(C=rbf_params['C'], kernel='rbf', gamma=rbf_params['gamma'])\n",
    "clf_rbf.fit(training_X, training_y)\n",
    "Pe_rbf = 1 - clf_rbf.score(testing_X, testing_y)\n",
    "print(\"rbf error rate: {0}\".format(Pe_rbf))"
   ]
  },
  {
   "cell_type": "markdown",
   "metadata": {},
   "source": [
    "### (c) The hardest example to classify"
   ]
  },
  {
   "cell_type": "code",
   "execution_count": null,
   "metadata": {},
   "outputs": [],
   "source": []
  }
 ],
 "metadata": {
  "kernelspec": {
   "display_name": "Python 3",
   "language": "python",
   "name": "python3"
  },
  "language_info": {
   "codemirror_mode": {
    "name": "ipython",
    "version": 3
   },
   "file_extension": ".py",
   "mimetype": "text/x-python",
   "name": "python",
   "nbconvert_exporter": "python",
   "pygments_lexer": "ipython3",
   "version": "3.6.5"
  }
 },
 "nbformat": 4,
 "nbformat_minor": 2
}
