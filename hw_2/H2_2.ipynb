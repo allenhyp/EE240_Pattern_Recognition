{
 "cells": [
  {
   "cell_type": "markdown",
   "metadata": {},
   "source": [
    "H2.2 Perceptron Learning Algorithm\n",
    "==================\n",
    "\n",
    "Implementation of PLA"
   ]
  },
  {
   "cell_type": "code",
   "execution_count": 43,
   "metadata": {},
   "outputs": [],
   "source": [
    "import numpy as np\n",
    "import matplotlib.pyplot as plt\n",
    "import random\n",
    "import pandas as pd"
   ]
  },
  {
   "cell_type": "markdown",
   "metadata": {},
   "source": [
    "### (a) Data processing\n",
    "N = 100  \n",
    "Data1 (80/20)  \n",
    "Data2 (30/70)"
   ]
  },
  {
   "cell_type": "code",
   "execution_count": 44,
   "metadata": {},
   "outputs": [],
   "source": [
    "def generate_data(n):\n",
    "    N = int(n / 2)\n",
    "    mu_n, sig_n = -0.5, 0.4\n",
    "    mu_p, sig_p = 0.5, 0.4\n",
    "    x1_p = np.random.normal(mu_n, sig_n, N)\n",
    "    x2_p = np.random.normal(mu_p, sig_p, N)\n",
    "    x1_n = np.random.normal(mu_p, sig_p, N)\n",
    "    x2_n = np.random.normal(mu_n, sig_n, N)\n",
    "#     x1_p = (np.random.rand(N) * 2 - 1) / 2 - 0.5\n",
    "#     x2_p = (np.random.rand(N) * 2 - 1) / 2 + 0.5\n",
    "#     x1_n = (np.random.rand(N) * 2 - 1) / 2 + 0.5\n",
    "#     x2_n = (np.random.rand(N) * 2 - 1) / 2 - 0.5\n",
    "    x1 = np.concatenate((x1_p, x1_n))[None]\n",
    "    x2 = np.concatenate((x2_p, x2_n))[None]\n",
    "    lp = np.ones(N)\n",
    "    ln = -np.ones(N)\n",
    "    label = np.concatenate((lp, ln))[None]\n",
    "    data = np.concatenate((x1, x2, label))\n",
    "    return np.transpose(data)\n",
    "\n",
    "def resample(data, training_rate):\n",
    "    class_num = int(training_rate * len(data))\n",
    "    np.random.shuffle(data)\n",
    "    return data[:class_num, :], data[class_num:, :]\n"
   ]
  },
  {
   "cell_type": "code",
   "execution_count": 45,
   "metadata": {},
   "outputs": [],
   "source": [
    "new_data = generate_data(100)\n",
    "training_data_1, testing_data_1 = resample(new_data, 0.8)\n",
    "training_data_2, testing_data_2 = resample(new_data, 0.3)\n"
   ]
  },
  {
   "cell_type": "markdown",
   "metadata": {},
   "source": [
    "### (b) Implementation"
   ]
  },
  {
   "cell_type": "code",
   "execution_count": 46,
   "metadata": {},
   "outputs": [],
   "source": [
    "def predict(row, weights):\n",
    "    activation = weights[0]\n",
    "    for i in range(len(row) - 1):\n",
    "        activation += weights[i + 1] * row[i]\n",
    "    return 1. if activation >= 0. else -1.\n",
    "\n",
    "def train_weights(training_data, l_rate):\n",
    "    weights = np.zeros(len(training_data[0]))\n",
    "    for row in training_data:\n",
    "        prediction = predict(row, weights)\n",
    "        error = row[-1] - prediction\n",
    "        weights[0] = weights[0] + l_rate * error\n",
    "        for i in range(len(row) - 1):\n",
    "            weights[i + 1] = weights[i + 1] + l_rate * error * row[i]\n",
    "    return weights\n"
   ]
  },
  {
   "cell_type": "markdown",
   "metadata": {},
   "source": [
    "### (c) Training"
   ]
  },
  {
   "cell_type": "code",
   "execution_count": 47,
   "metadata": {},
   "outputs": [],
   "source": [
    "l_rate = 0.5\n",
    "\n",
    "wd1 = train_weights(training_data_1, l_rate)\n",
    "wd2 = train_weights(training_data_2, l_rate)\n"
   ]
  },
  {
   "cell_type": "code",
   "execution_count": 48,
   "metadata": {},
   "outputs": [
    {
     "data": {
      "text/plain": [
       "Text(0.5,1,'training data 1 result')"
      ]
     },
     "execution_count": 48,
     "metadata": {},
     "output_type": "execute_result"
    },
    {
     "data": {
      "image/png": "[encoded data removed]",
      "text/plain": [
       "<Figure size 432x288 with 1 Axes>"
      ]
     },
     "metadata": {},
     "output_type": "display_data"
    }
   ],
   "source": [
    "tp1, fp1, tn1, fn1 = 0, 0, 0, 0\n",
    "\n",
    "for r in training_data_1:\n",
    "    if r[2] == 1:\n",
    "        plt.plot(r[0], r[1], 'bo')\n",
    "    else:\n",
    "        plt.plot(r[0], r[1], 'ro')\n",
    "axes = plt.gca()\n",
    "x_vals = np.array(axes.get_xlim())\n",
    "y_vals = -(wd1[1]/wd1[2]) * x_vals - wd1[0]/wd1[2]\n",
    "plt.plot(x_vals, y_vals, 'g-')\n",
    "\n",
    "for row in testing_data_1:\n",
    "    prediction = predict(row, wd1)\n",
    "    if row[2] == 1:\n",
    "        plt.plot(row[0], row[1], 'bx')\n",
    "        if prediction == row[-1]:\n",
    "            tp1 += 1\n",
    "        else:\n",
    "            fn1 += 1\n",
    "    else:\n",
    "        plt.plot(row[0], row[1], 'rx')\n",
    "        if prediction == row[-1]:\n",
    "            tn1 += 1\n",
    "        else:\n",
    "            fp1 += 1\n",
    "\n",
    "plt.title('training data 1 result')"
   ]
  },
  {
   "cell_type": "markdown",
   "metadata": {},
   "source": [
    "Blue dots: training data with y = 1  \n",
    "Red dots: training data with y = -1  \n",
    "Blue crosses: testing data with y = 1  \n",
    "Red crosses: tesing data with y = -1"
   ]
  },
  {
   "cell_type": "code",
   "execution_count": 49,
   "metadata": {},
   "outputs": [
    {
     "data": {
      "text/plain": [
       "Text(0.5,1,'training data 2 result')"
      ]
     },
     "execution_count": 49,
     "metadata": {},
     "output_type": "execute_result"
    },
    {
     "data": {
      "image/png": "[encoded data removed]",
      "text/plain": [
       "<Figure size 432x288 with 1 Axes>"
      ]
     },
     "metadata": {},
     "output_type": "display_data"
    }
   ],
   "source": [
    "tp2, fp2, tn2, fn2 = 0, 0, 0, 0\n",
    "\n",
    "for r in training_data_2:\n",
    "    if r[2] == 1:\n",
    "        plt.plot(r[0], r[1], 'bo')\n",
    "    else:\n",
    "        plt.plot(r[0], r[1], 'ro')\n",
    "axes = plt.gca()\n",
    "x_vals = np.array(axes.get_xlim())\n",
    "y_vals = -(wd2[1]/wd2[2]) * x_vals - wd2[0]/wd2[2]\n",
    "plt.plot(x_vals, y_vals, 'g-')\n",
    "for row in testing_data_2:\n",
    "    prediction = predict(row, wd2)\n",
    "    if row[2] == 1:\n",
    "        plt.plot(row[0], row[1], 'bx')\n",
    "        if prediction == row[-1]:\n",
    "            tp2 += 1\n",
    "        else:\n",
    "            fn2 += 1\n",
    "    else:\n",
    "        plt.plot(row[0], row[1], 'rx')\n",
    "        if prediction == row[-1]:\n",
    "            tn2 += 1\n",
    "        else:\n",
    "            fp2 += 1\n",
    "\n",
    "plt.title('training data 2 result')\n"
   ]
  },
  {
   "cell_type": "markdown",
   "metadata": {},
   "source": [
    "Blue dots: training data with y = 1  \n",
    "Red dots: training data with y = -1  \n",
    "Blue crosses: testing data with y = 1  \n",
    "Red crosses: tesing data with y = -1"
   ]
  },
  {
   "cell_type": "markdown",
   "metadata": {},
   "source": [
    "### (d) Testing"
   ]
  },
  {
   "cell_type": "code",
   "execution_count": 50,
   "metadata": {},
   "outputs": [
    {
     "name": "stdout",
     "output_type": "stream",
     "text": [
      "Data1\n",
      "\tPrecision: 100.0%\n",
      "\tRecall: 100.0%\n",
      "\tf1-score: 100.0%\n",
      "Data2\n",
      "\tPrecision: 91.17647058823529%\n",
      "\tRecall: 93.93939393939394%\n",
      "\tf1-score: 92.5373134328358%\n"
     ]
    }
   ],
   "source": [
    "print(\"Data1\")\n",
    "precision_1 = tp1 * 100 / (tp1 + fp1)\n",
    "recall_1 = tp1 * 100 / (tp1 + fn1)\n",
    "print(\"\\tPrecision: {0}%\".format(precision_1))\n",
    "print(\"\\tRecall: {0}%\".format(recall_1))\n",
    "print(\"\\tf1-score: {0}%\".format(2 * (precision_1 * recall_1) / (precision_1 + recall_1)))\n",
    "\n",
    "print(\"Data2\")\n",
    "precision_2 = tp2 * 100 / (tp2 + fp2)\n",
    "recall_2 = tp2 * 100 / (tp2 + fn2)\n",
    "print(\"\\tPrecision: {0}%\".format(precision_2))\n",
    "print(\"\\tRecall: {0}%\".format(recall_2))\n",
    "print(\"\\tf1-score: {0}%\".format(2 * (precision_2 * recall_2) / (precision_2 + recall_2)))\n",
    "\n"
   ]
  },
  {
   "cell_type": "markdown",
   "metadata": {},
   "source": [
    "### (e) Kernel perceptron"
   ]
  },
  {
   "cell_type": "code",
   "execution_count": 51,
   "metadata": {},
   "outputs": [],
   "source": [
    "def kernel_perceptron_train(training_data):\n",
    "    n = len(training_data)\n",
    "    alpha = np.zeros(n)\n",
    "    kernel = np.zeros((n, n))\n",
    "    for i in range(n):\n",
    "        for j in range(n):\n",
    "            kernel[i, j] = np.dot(training_data[i,:-1], training_data[j,:-1])\n",
    "    \n",
    "    for _ in range(3):\n",
    "        for i in range(n):\n",
    "            if np.sign(np.sum(kernel[:, i] * alpha * training_data[:,-1])) != training_data[i, -1]:\n",
    "                alpha[i] += 1.\n",
    "    \n",
    "    sv = alpha > 1e-5\n",
    "    ind = np.arange(len(alpha))[sv]\n",
    "    alpha = alpha[sv]\n",
    "    return alpha, training_data[sv, :-1], training_data[sv, -1]\n",
    "\n",
    "def project(X, A, SV_X, SV_y):\n",
    "    predictions = np.zeros(len(X))\n",
    "    for i in range(len(X)):\n",
    "        s = 0\n",
    "        for a, sv_X, sv_y in zip(A, SV_X, SV_y):\n",
    "            s += a * sv_y * np.dot(X[i], sv_X)\n",
    "        predictions[i] = s\n",
    "    return predictions\n",
    "\n",
    "def predict(data, A, SV_X, SV_y):\n",
    "    X = np.atleast_2d(data[:, :-1])\n",
    "    return np.sign(project(X, A, SV_X, SV_y))"
   ]
  },
  {
   "cell_type": "code",
   "execution_count": 52,
   "metadata": {},
   "outputs": [
    {
     "data": {
      "image/png": "[encoded data removed]",
      "text/plain": [
       "<Figure size 432x288 with 1 Axes>"
      ]
     },
     "metadata": {},
     "output_type": "display_data"
    }
   ],
   "source": [
    "alpha_1, sv_X_1, sv_y_1 = kernel_perceptron_train(training_data_1)\n",
    "predictions = predict(testing_data_1, alpha_1, sv_X_1, sv_y_1)\n",
    "for r in training_data_1:\n",
    "    if r[2] == 1:\n",
    "        plt.plot(r[0], r[1], 'bo')\n",
    "    else:\n",
    "        plt.plot(r[0], r[1], 'ro')\n",
    "\n",
    "plt.scatter(sv_X_1[:, 0], sv_X_1[:, 1], s=20, c='g')\n",
    "X1, X2 = np.meshgrid(np.linspace(-2,2,10), np.linspace(-2,2,10))\n",
    "X = np.array([[x1, x2] for x1, x2 in zip(np.ravel(X1), np.ravel(X2))])\n",
    "Z = project(X, alpha_1, sv_X_1, sv_y_1).reshape(X1.shape)\n",
    "for i in range(len(predictions)):\n",
    "    if testing_data_1[i, -1] == 1:\n",
    "        plt.plot(testing_data_1[i, 0], testing_data_1[i, 1], 'bx')\n",
    "        if predictions[i] == testing_data_1[i, -1]:\n",
    "            tp1 += 1\n",
    "        else:\n",
    "            fn1 += 1\n",
    "    else:\n",
    "        plt.plot(testing_data_1[i, 0], testing_data_1[i, 1], 'rx')\n",
    "        if predictions[i] == testing_data_1[i, -1]:\n",
    "            tn1 += 1\n",
    "        else:\n",
    "            fp1 += 1\n",
    "plt.contour(X1, X2, Z, [0.0], colors='k', origin='lower')\n",
    "plt.axis(\"tight\")\n",
    "plt.title(\"training data 1 result with kernel perceptron\")\n",
    "plt.show()"
   ]
  },
  {
   "cell_type": "code",
   "execution_count": 53,
   "metadata": {},
   "outputs": [
    {
     "data": {
      "image/png": "[encoded data removed]",
      "text/plain": [
       "<Figure size 432x288 with 1 Axes>"
      ]
     },
     "metadata": {},
     "output_type": "display_data"
    }
   ],
   "source": [
    "alpha_2, sv_X_2, sv_y_2 = kernel_perceptron_train(training_data_2)\n",
    "predictions = predict(testing_data_2, alpha_2, sv_X_2, sv_y_2)\n",
    "for r in training_data_2:\n",
    "    if r[2] == 1:\n",
    "        plt.plot(r[0], r[1], 'bo')\n",
    "    else:\n",
    "        plt.plot(r[0], r[1], 'ro')\n",
    "\n",
    "plt.scatter(sv_X_2[:, 0], sv_X_2[:, 1], s=20, c='g')\n",
    "X1, X2 = np.meshgrid(np.linspace(-2,2,10), np.linspace(-2,2,10))\n",
    "X = np.array([[x1, x2] for x1, x2 in zip(np.ravel(X1), np.ravel(X2))])\n",
    "Z = project(X, alpha_2, sv_X_2, sv_y_2).reshape(X1.shape)\n",
    "for i in range(len(predictions)):\n",
    "    if testing_data_2[i, -1] == 1:\n",
    "        plt.plot(testing_data_2[i, 0], testing_data_2[i, 1], 'bx')\n",
    "        if predictions[i] == testing_data_2[i, -1]:\n",
    "            tp2 += 1\n",
    "        else:\n",
    "            fn2 += 1\n",
    "    else:\n",
    "        plt.plot(testing_data_2[i, 0], testing_data_2[i, 1], 'rx')\n",
    "        if predictions[i] == testing_data_2[i, -1]:\n",
    "            tn2 += 1\n",
    "        else:\n",
    "            fp2 += 1\n",
    "plt.contour(X1, X2, Z, [0.0], colors='k', origin='lower')\n",
    "plt.axis(\"tight\")\n",
    "plt.show()"
   ]
  },
  {
   "cell_type": "code",
   "execution_count": 54,
   "metadata": {},
   "outputs": [
    {
     "name": "stdout",
     "output_type": "stream",
     "text": [
      "Data1\n",
      "\tPrecision: 100.0%\n",
      "\tRecall: 100.0%\n",
      "\tf1-score: 100.0%\n",
      "Data2\n",
      "\tPrecision: 91.04477611940298%\n",
      "\tRecall: 92.42424242424242%\n",
      "\tf1-score: 91.72932330827066%\n"
     ]
    }
   ],
   "source": [
    "print(\"Data1\")\n",
    "precision_1 = tp1 * 100 / (tp1 + fp1)\n",
    "recall_1 = tp1 * 100 / (tp1 + fn1)\n",
    "print(\"\\tPrecision: {0}%\".format(precision_1))\n",
    "print(\"\\tRecall: {0}%\".format(recall_1))\n",
    "print(\"\\tf1-score: {0}%\".format(2 * (precision_1 * recall_1) / (precision_1 + recall_1)))\n",
    "\n",
    "print(\"Data2\")\n",
    "precision_2 = tp2 * 100 / (tp2 + fp2)\n",
    "recall_2 = tp2 * 100 / (tp2 + fn2)\n",
    "print(\"\\tPrecision: {0}%\".format(precision_2))\n",
    "print(\"\\tRecall: {0}%\".format(recall_2))\n",
    "print(\"\\tf1-score: {0}%\".format(2 * (precision_2 * recall_2) / (precision_2 + recall_2)))\n"
   ]
  }
 ],
 "metadata": {
  "kernelspec": {
   "display_name": "Python 3",
   "language": "python",
   "name": "python3"
  },
  "language_info": {
   "codemirror_mode": {
    "name": "ipython",
    "version": 3
   },
   "file_extension": ".py",
   "mimetype": "text/x-python",
   "name": "python",
   "nbconvert_exporter": "python",
   "pygments_lexer": "ipython3",
   "version": "3.6.5"
  }
 },
 "nbformat": 4,
 "nbformat_minor": 2
}
