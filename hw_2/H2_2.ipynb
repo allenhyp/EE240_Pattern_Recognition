{
 "cells": [
  {
   "cell_type": "markdown",
   "metadata": {},
   "source": [
    "H2.2 Perceptron Learning Algorithm\n",
    "==================\n",
    "\n",
    "Implementation of PLA"
   ]
  },
  {
   "cell_type": "code",
   "execution_count": 30,
   "metadata": {},
   "outputs": [],
   "source": [
    "import numpy as np\n",
    "import matplotlib.pyplot as plt\n",
    "import random\n",
    "import pandas as pd"
   ]
  },
  {
   "cell_type": "markdown",
   "metadata": {},
   "source": [
    "### (a) Data processing\n",
    "N = 100  \n",
    "Data1 (80/20)  \n",
    "Data2 (30/70)"
   ]
  },
  {
   "cell_type": "code",
   "execution_count": 47,
   "metadata": {},
   "outputs": [],
   "source": [
    "def generate_data(n):\n",
    "    N = int(n / 2)\n",
    "    x1_p = (np.random.rand(N) * 2 - 1) / 2 - 0.5\n",
    "    x2_p = (np.random.rand(N) * 2 - 1) / 2 + 0.5\n",
    "    x1_n = (np.random.rand(N) * 2 - 1) / 2 + 0.5\n",
    "    x2_n = (np.random.rand(N) * 2 - 1) / 2 - 0.5\n",
    "    x1 = np.concatenate((x1_p, x1_n))[None]\n",
    "    x2 = np.concatenate((x2_p, x2_n))[None]\n",
    "    lp = np.ones(N)\n",
    "    ln = -np.ones(N)\n",
    "    label = np.concatenate((lp, ln))[None]\n",
    "    data = np.concatenate((x1, x2, label))\n",
    "    return np.transpose(data)\n",
    "\n",
    "def resample(data, training_rate):\n",
    "    class_num = int(training_rate * len(data))\n",
    "    np.random.shuffle(data)\n",
    "    return data[:class_num, :], data[class_num:, :]\n"
   ]
  },
  {
   "cell_type": "code",
   "execution_count": 79,
   "metadata": {},
   "outputs": [
    {
     "name": "stdout",
     "output_type": "stream",
     "text": [
      "[[ 0.97293887 -0.86241002 -1.        ]\n",
      " [-0.25026494  0.59316429  1.        ]\n",
      " [ 0.28832715 -0.47129036 -1.        ]\n",
      " [ 0.82686406 -0.16780985 -1.        ]\n",
      " [ 0.94476573 -0.11120017 -1.        ]\n",
      " [ 0.3057337  -0.82402683 -1.        ]\n",
      " [-0.33357371  0.58756258  1.        ]\n",
      " [-0.75832527  0.27316935  1.        ]\n",
      " [ 0.05797533 -0.22367688 -1.        ]\n",
      " [-0.08862195  0.85395503  1.        ]\n",
      " [-0.78294622  0.38419111  1.        ]\n",
      " [-0.72913477  0.68434197  1.        ]\n",
      " [-0.35287735  0.32905809  1.        ]\n",
      " [ 0.54386268 -0.93407886 -1.        ]\n",
      " [ 0.39324391 -0.65650827 -1.        ]\n",
      " [-0.53547502  0.95296805  1.        ]\n",
      " [ 0.67975186 -0.54242996 -1.        ]\n",
      " [-0.5016073   0.81313697  1.        ]\n",
      " [ 0.78964737 -0.28440864 -1.        ]\n",
      " [ 0.98546548 -0.72002633 -1.        ]]\n"
     ]
    }
   ],
   "source": [
    "new_data = generate_data(100)\n",
    "training_data_1, testing_data_1 = resample(new_data, 0.8)\n",
    "training_data_2, testing_data_2 = resample(new_data, 0.3)\n",
    "print(testing_data_1)"
   ]
  },
  {
   "cell_type": "markdown",
   "metadata": {},
   "source": [
    "### (b) Implementation"
   ]
  },
  {
   "cell_type": "code",
   "execution_count": 77,
   "metadata": {},
   "outputs": [],
   "source": [
    "def predict(row, weights):\n",
    "    activation = weights[0]\n",
    "    for i in range(len(row) - 1):\n",
    "        activation += weights[i + 1] * row[i]\n",
    "    return 1. if activation >= 0. else -1.\n",
    "\n",
    "def train_weights(training_data, l_rate):\n",
    "    weights = np.array([0. for i in range(len(training_data[0]))])\n",
    "    for row in training_data:\n",
    "        prediction = predict(row, weights)\n",
    "        error = row[-1] - prediction\n",
    "        weights[0] = weights[0] + l_rate * error\n",
    "        for i in range(len(row) - 1):\n",
    "            weights[i + 1] = weights[i + 1] + l_rate * error * row[i]\n",
    "    return weights\n",
    "\n",
    "# def perceptron(training_data, testing_data, l_rate):\n",
    "#     predictions = []\n",
    "#     weights = train_weights(training_data, l_rate)\n",
    "#     for row in testing_data:\n",
    "#         prediction = predict(row, weights)\n",
    "#         predictions.append(prediction)\n",
    "#     return predictions\n"
   ]
  },
  {
   "cell_type": "markdown",
   "metadata": {},
   "source": [
    "### (c) Training"
   ]
  },
  {
   "cell_type": "code",
   "execution_count": 88,
   "metadata": {},
   "outputs": [
    {
     "data": {
      "text/plain": [
       "[<matplotlib.lines.Line2D at 0x10aaa1668>]"
      ]
     },
     "execution_count": 88,
     "metadata": {},
     "output_type": "execute_result"
    },
    {
     "data": {
      "image/png": "[encoded data removed]",
      "text/plain": [
       "<Figure size 432x288 with 1 Axes>"
      ]
     },
     "metadata": {},
     "output_type": "display_data"
    }
   ],
   "source": [
    "l_rate = 0.01\n",
    "scores = []\n",
    "weights = train_weights(training_data_1, l_rate)\n",
    "# predicted = perceptron(training_data_1, testing_data_1, l_rate)\n",
    "plt.plot(training_data_1[:, 0], training_data_1[:, 1], 'bo')\n",
    "axes = plt.gca()\n",
    "x_vals = np.array(axes.get_xlim())\n",
    "y_vals = -weights[1]/weights[2] * x_vals\n",
    "plt.plot(x_vals, y_vals, 'r-')\n"
   ]
  },
  {
   "cell_type": "markdown",
   "metadata": {},
   "source": [
    "### (d) Testing"
   ]
  },
  {
   "cell_type": "code",
   "execution_count": 89,
   "metadata": {},
   "outputs": [
    {
     "data": {
      "image/png": "[encoded data removed]",
      "text/plain": [
       "<Figure size 432x288 with 1 Axes>"
      ]
     },
     "metadata": {},
     "output_type": "display_data"
    }
   ],
   "source": [
    "for i in range(len(testing_data_1)):\n",
    "    row = testing_data_1[i]\n",
    "    prediction = predict(row, weights)\n",
    "    if prediction == testing_data_1[i][-1]:\n",
    "        plt.plot(row[0], row[1], 'g^')\n",
    "    else:\n",
    "        plt.plot(row[0], row[1], 'r^')\n"
   ]
  }
 ],
 "metadata": {
  "kernelspec": {
   "display_name": "Python 3",
   "language": "python",
   "name": "python3"
  },
  "language_info": {
   "codemirror_mode": {
    "name": "ipython",
    "version": 3
   },
   "file_extension": ".py",
   "mimetype": "text/x-python",
   "name": "python",
   "nbconvert_exporter": "python",
   "pygments_lexer": "ipython3",
   "version": "3.6.5"
  }
 },
 "nbformat": 4,
 "nbformat_minor": 2
}
